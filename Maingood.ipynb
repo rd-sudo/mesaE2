{
 "cells": [
  {
   "cell_type": "markdown",
   "metadata": {
    "id": "iyZ1IGeB64OY"
   },
   "source": [
    "# Project: Traffic Simulation Model\n"
   ]
  },
  {
   "cell_type": "markdown",
   "metadata": {},
   "source": [
    "## Introduction"
   ]
  },
  {
   "cell_type": "markdown",
   "metadata": {},
   "source": [
    "This project implements a traffic simulation model using the Mesa framework. The simulation aims to model the movement of cars within a city grid, incorporating traffic lights and parking spots. The primary goal is to simulate realistic traffic behavior, including car movements, traffic light interactions, and parking dynamics.\n",
    "\n",
    "The simulation is built on a 24x24 grid, where each cell can represent different elements such as roads, buildings, parking spots, and traffic lights. Car agents navigate through the grid based on predefined directional coordinates and traffic light states, aiming to reach their target parking spots.\n",
    "\n",
    "Key features of the project include:\n",
    "\n",
    "- Car Agents: Simulated cars that move around the grid, following traffic rules and aiming to park in available spots.\n",
    "- Traffic Light Agents: Traffic lights that control the flow of car agents at intersections, switching between red and green states.\n",
    "- Grid Representation: A multi-layer grid that includes buildings, roads, and parking spots.\n",
    "- Visualization: Tools for visualizing the simulation, including the positions of car agents and the states of traffic lights.\n",
    "\n",
    "The project leverages the Mesa framework for agent-based modeling and includes various components for data collection and visualization to analyze the simulation results."
   ]
  },
  {
   "cell_type": "markdown",
   "metadata": {},
   "source": [
    "## Installation\n"
   ]
  },
  {
   "cell_type": "markdown",
   "metadata": {},
   "source": [
    "\n",
    "To set up the project, you need to install several dependencies. These libraries are essential for running the traffic simulation model and visualizing the results.\n",
    "\n",
    "### Required Libraries\n",
    "\n",
    "- **Mesa (version 3.1.0.dev)**: A Python framework for agent-based modeling. It provides the core functionality for creating and managing agents, as well as tools for visualization and data collection.\n",
    "- **Seaborn**: A data visualization library based on Matplotlib. It is used for creating informative and attractive statistical graphics.\n",
    "- **Solara**: A library for building interactive web applications in Python. It is used for creating interactive visualizations of the simulation.\n",
    "- **Pandas**: A powerful data manipulation and analysis library. It is used for handling and analyzing data within the simulation.\n",
    "- **NumPy**: A fundamental package for scientific computing with Python. It is used for numerical operations and handling arrays.\n",
    "- **Random**: A module for generating random numbers. It is used for randomizing agent behaviors and movements.\n",
    "- **Time**: A module for time-related functions. It is used for managing simulation timing and delays.\n",
    "\n",
    "### Installation Steps\n",
    "\n",
    "To install the required libraries, you can use the following commands:\n",
    "```python\n",
    "#%pip install --quiet --upgrade mesa==3.1.0.dev\n",
    "#%pip install solara\n",
    "#%pip install seaborn\n",
    "#%pip install pandas\n",
    "#%pip install numpy"
   ]
  },
  {
   "cell_type": "code",
   "execution_count": 1,
   "metadata": {
    "id": "lhn6OMvm7JOw"
   },
   "outputs": [
    {
     "name": "stdout",
     "output_type": "stream",
     "text": [
      "Mesa version: 3.0.3\n"
     ]
    }
   ],
   "source": [
    "\n",
    "import time\n",
    "# Data visualization tools.\n",
    "import seaborn as sns\n",
    "import random\n",
    "import numpy as np\n",
    "\n",
    "# Data manipulation and analysis. \n",
    "import pandas as pd\n",
    "\n",
    "#Mesa library\n",
    "import mesa\n",
    "from mesa.visualization.utils import update_counter\n",
    "from mesa.visualization import SolaraViz, make_plot_component, make_space_component\n",
    "from mesa.datacollection import DataCollector\n",
    "print(f\"Mesa version: {mesa.__version__}\")\n"
   ]
  },
  {
   "cell_type": "markdown",
   "metadata": {},
   "source": [
    "## Map Construction\n",
    "\n"
   ]
  },
  {
   "cell_type": "markdown",
   "metadata": {},
   "source": [
    "In this section, we will define the structure and layout of the simulation environment. The map construction involves setting up a grid that represents the city, including buildings, parking spots, directional coordinates, and traffic lights. Each of these elements plays a crucial role in the simulation:\n",
    "\n",
    "- **Buildings**: Represent static structures within the city grid. They serve as obstacles that car agents must navigate around.\n",
    "- **Parking Spots**: Designated areas where car agents aim to park. These spots are the primary destinations for the car agents.\n",
    "- **Directional Coordinates**: Predefined paths that guide the movement of car agents through the grid. These coordinates help simulate realistic traffic flow.\n",
    "- **Traffic Lights**: Control the flow of car agents at intersections. They switch between red and green states to manage traffic and prevent collisions.\n",
    "\n",
    "We will use the Mesa framework to create and manage the grid, ensuring that all elements are correctly placed and interact as expected. The map construction is a crucial step in creating a realistic and functional traffic simulation model."
   ]
  },
  {
   "cell_type": "markdown",
   "metadata": {},
   "source": [
    "#### Buildings"
   ]
  },
  {
   "cell_type": "code",
   "execution_count": 2,
   "metadata": {},
   "outputs": [],
   "source": [
    "from mapBuild.buildings import buildings_coords"
   ]
  },
  {
   "cell_type": "markdown",
   "metadata": {},
   "source": [
    "#### Parking spots"
   ]
  },
  {
   "cell_type": "code",
   "execution_count": 3,
   "metadata": {},
   "outputs": [],
   "source": [
    "from mapBuild.parkingSpots import parking_spots"
   ]
  },
  {
   "cell_type": "markdown",
   "metadata": {},
   "source": [
    "#### Direccional coords(Left, Right, Down, Up)"
   ]
  },
  {
   "cell_type": "code",
   "execution_count": 4,
   "metadata": {},
   "outputs": [],
   "source": [
    "from mapBuild.leftCoords import left_coords\n",
    "from mapBuild.rightCoords import right_coords\n",
    "from mapBuild.upCoords import up_coords\n",
    "from mapBuild.downCoords import down_coords"
   ]
  },
  {
   "cell_type": "markdown",
   "metadata": {},
   "source": [
    "##### Secondary directional coord(DownLeft, DownRight, UpLeft, UpRight)"
   ]
  },
  {
   "cell_type": "code",
   "execution_count": 5,
   "metadata": {},
   "outputs": [],
   "source": [
    "from mapBuild.downLeftCoords import down_left_coords\n",
    "from mapBuild.downRightCoords import down_right_coords\n",
    "from mapBuild.upLeftCoords import up_left_coords\n",
    "from mapBuild.upRightCoords import up_right_coords"
   ]
  },
  {
   "cell_type": "code",
   "execution_count": 6,
   "metadata": {},
   "outputs": [],
   "source": [
    "# Storing the coordinates in a dictionary\n",
    "coords = {\n",
    "    \"left_coords\": left_coords,\n",
    "    \"right_coords\": right_coords,\n",
    "    \"up_coords\": up_coords,\n",
    "    \"down_coords\": down_coords,\n",
    "    \"down_left_coords\": down_left_coords,\n",
    "    \"down_right_coords\": down_right_coords,\n",
    "    \"up_left_coords\": up_left_coords,\n",
    "    \"up_right_coords\": up_right_coords,\n",
    "}"
   ]
  },
  {
   "cell_type": "markdown",
   "metadata": {},
   "source": [
    "#### Traffic Lights"
   ]
  },
  {
   "cell_type": "code",
   "execution_count": 7,
   "metadata": {},
   "outputs": [],
   "source": [
    "from mapBuild.trafficLights import traffic_light_coords"
   ]
  },
  {
   "attachments": {},
   "cell_type": "markdown",
   "metadata": {},
   "source": [
    "## Traffic Model"
   ]
  },
  {
   "cell_type": "markdown",
   "metadata": {},
   "source": [
    "In this section, we will explain the traffic simulation model, its components, and main functionalities. The model is designed to simulate the movement of car agents within a city grid, incorporating traffic lights and parking spots to create a realistic traffic environment.\n",
    "\n",
    "### Components\n",
    "\n",
    "1. **Car Agents**:\n",
    "   - **Purpose**: Simulate individual cars moving through the city grid.\n",
    "   - **Behavior**: Car agents navigate the grid based on directional coordinates, obey traffic lights, and aim to park in available parking spots.\n",
    "\n",
    "2. **Traffic Light Agents**:\n",
    "   - **Purpose**: Control the flow of car agents at intersections.\n",
    "   - **Behavior**: Traffic lights switch between red and green states at regular intervals, managing the movement of car agents and preventing collisions.\n",
    "\n",
    "3. **Grid**:\n",
    "   - **Purpose**: Represent the city layout, including roads, buildings, parking spots, and traffic lights.\n",
    "   - **Structure**: A 24x24 grid where each cell can represent different elements such as roads, buildings, parking spots, and traffic lights.\n",
    "\n",
    "### Main Functionalities\n",
    "\n",
    "1. **Initialization**:\n",
    "   - The model initializes the grid, placing buildings, parking spots, directional coordinates, and traffic lights in their respective positions.\n",
    "   - Car agents are created and placed on the grid, ready to navigate the city.\n",
    "\n",
    "2. **Agent Movement**:\n",
    "   - Car agents move through the grid based on predefined directional coordinates.\n",
    "   - They obey traffic lights and navigate around buildings to reach their target parking spots.\n",
    "\n",
    "3. **Traffic Light Control**:\n",
    "   - Traffic light agents manage the flow of car agents at intersections.\n",
    "   - They switch between red and green states at regular intervals, ensuring smooth traffic flow and preventing collisions.\n",
    "\n",
    "4. **Parking Dynamics**:\n",
    "   - Car agents aim to park in available parking spots.\n",
    "   - The model tracks the occupancy of parking spots and updates the status of car agents accordingly.\n",
    "\n",
    "This comprehensive model allows for the simulation of realistic traffic behavior, providing valuable insights into traffic dynamics and potential improvements for urban planning."
   ]
  },
  {
   "cell_type": "code",
   "execution_count": 8,
   "metadata": {},
   "outputs": [],
   "source": [
    "class TrafficModel(mesa.Model):\n",
    "    def __init__(\n",
    "        self,\n",
    "        width=24,\n",
    "        height=24,\n",
    "        num_agents=1,\n",
    "        coords=None,\n",
    "        buildings_coords=None,\n",
    "        parking_coords=None,\n",
    "        traffic_light_coords=None,\n",
    "    ):\n",
    "        super().__init__()\n",
    "        #ATTRIBUTES OF THE MODEL----------------------------------------------------------------------------------\n",
    "        self.width = width\n",
    "        self.height = height\n",
    "        self.num_agents = num_agents\n",
    "        self.coords = coords\n",
    "        self.buildings_coords = buildings_coords\n",
    "        self.parkings_coords = parking_coords\n",
    "        self.traffic_light_coords = traffic_light_coords\n",
    "\n",
    "        # Initialize random generator and step counter\n",
    "        self.random = random.Random()\n",
    "        self.steps = 0\n",
    "\n",
    "        # Initialize direction dictionary and global maps\n",
    "        self.directions = {}\n",
    "        self.global_map_cars = {}\n",
    "        self.global_map_traffic_lights = {}\n",
    "        self.traffic_light_groups = {}\n",
    "\n",
    "        # Create a dictionary mapping each parking spot to a unique key\n",
    "        self.ParkingSpots = {i + 1: spot for i, spot in enumerate(self.parkings_coords)}\n",
    "\n",
    "        # Initialize grid layers\n",
    "        self.initialize_layers()\n",
    "\n",
    "        #CREATION OF AGENTS IN THE GRID---------------------------------------    \n",
    "        # Initialize agents and their positions\n",
    "        self.initialize_agents()\n",
    "\n",
    "        # Initialize data collector\n",
    "        self.datacollector = mesa.DataCollector(\n",
    "            model_reporters={},\n",
    "            agent_reporters={}\n",
    "        )\n",
    "        self.datacollector.collect(self)\n",
    "        \n",
    "    #LAYERS OF THE GRID---------------------------------------\n",
    "    def initialize_layers(self):\n",
    "        \"\"\"Initialize the grid layers for buildings, parking spots, and traffic monitoring.\"\"\"\n",
    "        buildingLayer = mesa.space.PropertyLayer(\"building\", self.width, self.height, np.int64(0), np.int64)\n",
    "        parkingsLayer = mesa.space.PropertyLayer(\"parking\", self.width, self.height, np.int64(0), np.int64)\n",
    "        trafficMonitoringLayer = mesa.space.PropertyLayer(\"traffic_monitoring\", self.width, self.height, np.int64(0), np.int64)\n",
    "\n",
    "        self.set_building_cells(buildingLayer)\n",
    "        self.set_parking_cells(parkingsLayer)\n",
    "        self.set_traffic_monitoring_cells(trafficMonitoringLayer)\n",
    "\n",
    "        self.grid = mesa.space.MultiGrid(self.width, self.height, True, (buildingLayer, parkingsLayer, trafficMonitoringLayer))\n",
    "        \"\"\"I am checking if the traffic lights are checking the right amount of cars in their monitored area\n",
    "        list_of_cords_of_traffic_lights = [(2, 4),(0, 6)]\n",
    "        for cord in list_of_cords_of_traffic_lights:\n",
    "            for agent in self.grid.get_cell_list_contents(cord):\n",
    "                if isinstance(agent, TrafficLightAgent):\n",
    "                    print(f\"Agent:{agent.traffic_light_id} Found: {agent.cars_in_monitored_area()} in his area.\")\n",
    "        \"\"\"\n",
    "       \n",
    "    #INITIALIZER METHODS----------------------------------------------------------------------------------\n",
    "    def initialize_agents(self):\n",
    "        \"\"\"Initialize the agents in the grid.\"\"\"\n",
    "        self.initialize_directions(self.coords)\n",
    "        self.create_traffic_light_groups()\n",
    "        self.create_CarAgents()\n",
    "        self.create_CarAgents_no_target()\n",
    "        self.place_TrafficLight_agents()\n",
    "\n",
    "    # Initialize allowed directions for each cell in the grid\n",
    "    def initialize_directions(self, coords):\n",
    "        for x in range(self.width):\n",
    "            for y in range(self.height):\n",
    "                self.directions[(x, y)] = {\n",
    "                    \"left\": False,\n",
    "                    \"right\": False,\n",
    "                    \"up\": False,\n",
    "                    \"down\": False,\n",
    "                    \"down_left\": False,\n",
    "                    \"down_right\": False,\n",
    "                    \"up_left\": False,\n",
    "                    \"up_right\": False,\n",
    "                }\n",
    "\n",
    "        # Set specific directions for each list\n",
    "        for coord in coords[\"left_coords\"]:\n",
    "            if coord in self.directions:\n",
    "                self.directions[coord][\"left\"] = True\n",
    "\n",
    "        for coord in coords[\"right_coords\"]:\n",
    "            if coord in self.directions:\n",
    "                self.directions[coord][\"right\"] = True\n",
    "\n",
    "        for coord in coords[\"up_coords\"]:\n",
    "            if coord in self.directions:\n",
    "                self.directions[coord][\"up\"] = True\n",
    "\n",
    "        for coord in coords[\"down_coords\"]:\n",
    "            if coord in self.directions:\n",
    "                self.directions[coord][\"down\"] = True\n",
    "\n",
    "        for coord in coords[\"down_left_coords\"]:\n",
    "            if coord in self.directions:\n",
    "                self.directions[coord][\"down_left\"] = True\n",
    "\n",
    "        for coord in coords[\"down_right_coords\"]:\n",
    "            if coord in self.directions:\n",
    "                self.directions[coord][\"down_right\"] = True\n",
    "\n",
    "        for coord in coords[\"up_left_coords\"]:\n",
    "            if coord in self.directions:\n",
    "                self.directions[coord][\"up_left\"] = True\n",
    "\n",
    "        for coord in coords[\"up_right_coords\"]:\n",
    "            if coord in self.directions:\n",
    "                self.directions[coord][\"up_right\"] = True\n",
    "\n",
    "    def create_CarAgents_no_target(self):\n",
    "        \"\"\"Create car agents without a target parking spot.\"\"\"\n",
    "        number_of_cars = 50\n",
    "        all_coords = [(x, y) for x in range(self.width) for y in range(self.height)]\n",
    "        available_coords = [coord for coord in all_coords if coord not in self.parkings_coords and coord not in self.buildings_coords]\n",
    "\n",
    "        if len(available_coords) < number_of_cars:\n",
    "            raise ValueError(\"Not enough available coordinates to place all cars.\")\n",
    "\n",
    "        for _ in range(number_of_cars):\n",
    "            spawn_position = random.choice(available_coords)\n",
    "            available_coords.remove(spawn_position)\n",
    "            agent = CarAgent(self, spawn_position, None)\n",
    "            self.grid.place_agent(agent, spawn_position)\n",
    "            \n",
    "\n",
    "    # Create agents and place them on the grid\n",
    "    def create_CarAgents(self):\n",
    "        \"\"\"Create car agents and place them on the grid.\"\"\"\n",
    "        used_parking_spots = set()\n",
    "\n",
    "        for _ in range(self.num_agents):\n",
    "            available_spawn_spots = [spot for spot in self.ParkingSpots.values() if spot not in used_parking_spots]\n",
    "\n",
    "            if not available_spawn_spots:\n",
    "                print(\"No available spots for spawn\")\n",
    "                break\n",
    "\n",
    "            spawn = random.choice(available_spawn_spots)\n",
    "            used_parking_spots.add(spawn)\n",
    "\n",
    "            available_target_spots = [spot for spot in self.ParkingSpots.values() if spot != spawn and spot not in used_parking_spots]\n",
    "\n",
    "            if not available_target_spots:\n",
    "                print(\"No available spots for target parking\")\n",
    "                break\n",
    "\n",
    "            target_parking_spot = random.choice(available_target_spots)\n",
    "            used_parking_spots.add(target_parking_spot)\n",
    "\n",
    "            print(f\"Spawn: ({spawn}), Target: ({target_parking_spot})\")\n",
    "\n",
    "            agent = CarAgent(self, spawn, target_parking_spot)\n",
    "            self.grid.place_agent(agent, spawn)\n",
    "            \n",
    "\n",
    "    #TRAFFIC LIGHT METHODS----------------------------------------------------------------------------------\n",
    "    def place_TrafficLight_agents(self):\n",
    "        for traffic_light_id, traffic_light_info in self.traffic_light_coords.items():\n",
    "            positions = traffic_light_info[\"position\"]\n",
    "            initial_state = traffic_light_info[\"state\"]\n",
    "            group = traffic_light_info[\"group\"]\n",
    "            monitored_coords = traffic_light_info[\"monitored_coords\"]\n",
    "            \n",
    "            # Create separate agents with the same id and place them in the corresponding positions\n",
    "            for pos in positions:\n",
    "                sema_agent = TrafficLightAgent(\n",
    "                    traffic_light_id=traffic_light_id,\n",
    "                    state=initial_state,\n",
    "                    model=self,\n",
    "                    group=group,\n",
    "                    position=positions,\n",
    "                    monitored_positions=monitored_coords\n",
    "                )  # Assign the same id\n",
    "                self.grid.place_agent(sema_agent, pos)\n",
    "    \n",
    "    def create_traffic_light_groups(self):\n",
    "        \"\"\"Create a map of traffic light groups.\"\"\"\n",
    "        for traffic_light_id, traffic_light_info in self.traffic_light_coords.items():\n",
    "            group = traffic_light_info[\"group\"]\n",
    "            if group not in self.traffic_light_groups:\n",
    "                self.traffic_light_groups[group] = []\n",
    "            self.traffic_light_groups[group].append(traffic_light_id)\n",
    "\n",
    "    #GETTER METHODS----------------------------------------------------------------------------------\n",
    "    def get_cell_directions(self, pos):\n",
    "        \"\"\"Fetch the direction info for a specific cell.\"\"\"\n",
    "        return self.directions.get(pos, None)\n",
    "\n",
    "    # Create a global map of the current state of the simulation\n",
    "    def get_global_map(self):\n",
    "        \"\"\"Create a global map of the current state of the simulation.\"\"\"\n",
    "        self.global_map_cars = {\"Cars\": []}\n",
    "        self.global_map_traffic_lights = {\"Traffic_Lights\": {}}\n",
    "\n",
    "        car_agents = []\n",
    "        trafficLight = {}\n",
    "\n",
    "        for contents, (x, y) in self.grid.coord_iter():\n",
    "            for agent in contents:\n",
    "                if isinstance(agent, CarAgent):\n",
    "                    car_agents.append(agent)\n",
    "                elif isinstance(agent, TrafficLightAgent):\n",
    "                    trafficLight[agent.unique_id] = agent.state == \"green\"\n",
    "\n",
    "        car_agents.sort(key=lambda agent: agent.unique_id)\n",
    "\n",
    "        for agent in car_agents:\n",
    "            self.global_map_cars[\"Cars\"].append(agent.pos)\n",
    "\n",
    "        self.global_map_traffic_lights[\"Traffic_Lights\"] = trafficLight\n",
    "\n",
    "        return self.global_map_cars, self.global_map_traffic_lights\n",
    "    \n",
    "        \n",
    "    # LAYER METHODS----------------------------------------------------------------------------------\n",
    "    def set_building_cells(self, buildingLayer):\n",
    "        \"\"\"Set the value of cells to indicate buildings.\"\"\"\n",
    "        for coord in self.buildings_coords:\n",
    "            buildingLayer.set_cell(coord, 1)\n",
    "\n",
    "    def set_parking_cells(self, parkingsLayer):\n",
    "        \"\"\"Set the value of cells to indicate parking spots.\"\"\"\n",
    "        for coord in self.parkings_coords:\n",
    "            parkingsLayer.set_cell(coord, 1)\n",
    "\n",
    "    def set_traffic_monitoring_cells(self, trafficMonitoringLayer):\n",
    "        \"\"\"Set the value of cells to indicate traffic monitoring spots.\"\"\"\n",
    "        all_monitored_coords = []\n",
    "        for traffic_light in self.traffic_light_coords.values():\n",
    "            all_monitored_coords.extend(traffic_light[\"monitored_coords\"])\n",
    "        for coord in all_monitored_coords:\n",
    "            trafficMonitoringLayer.set_cell(coord, 1)\n",
    "\n",
    "    # STEP METHOD----------------------------------------------------------------------------------\n",
    "    # Execute one step of the model, shuffle agents, and collect data\n",
    "    def step(self):\n",
    "        # Shuffle and execute the step method for all agents\n",
    "        self.agents.shuffle_do(\"step\")\n",
    "        # Collect data for the current step\n",
    "        self.datacollector.collect(self)\n",
    "        # Create a global map of the current state\n",
    "        self.get_global_map()"
   ]
  },
  {
   "attachments": {},
   "cell_type": "markdown",
   "metadata": {
    "id": "A_3NEal1hla2"
   },
   "source": [
    "\n",
    "## Car Agent\n",
    "Main points of the agent's functionality:\n",
    "\n",
    "- Initialization:\n",
    "Each agent has a unique ID and is created with the model. \n",
    "It is randomly positioned on the model's grid.\n",
    "- Movement:\n",
    "The main movement method is `move()`.\n",
    "This method is called at each model step `step()`.\n",
    "- Directions:\n",
    "A dictionary of directions is used: \"up,\" \"down,\" \"left,\" \"right\".\n",
    "- Choosing a random direction:\n",
    "A random direction is selected from those allowed in the current cell.\n",
    "- Checking for an empty space:\n",
    "Before moving, it checks if the new space is empty."
   ]
  },
  {
   "attachments": {},
   "cell_type": "markdown",
   "metadata": {
    "id": "FqFZy3zzs5hv"
   },
   "source": [
    "**Basic Configuration:**\n",
    "- Defines the width and height of the grid (default is 24x24). \n",
    "Sets the number of agents (default is 10).\n",
    "- Path Customization:\n",
    "Allows defining custom paths using lists of coordinates (x, y) for each direction (up, down, left, right).\n",
    "- Model Initialization: \n",
    "Creates a two-dimensional grid (MultiGrid). \n",
    "Initializes the scheduler to manage model steps.\n",
    "- Agent Creation: \n",
    "Randomly places agents on the grid.\n",
    "- Direction Initialization: \n",
    "Uses the initialize_directions() method to set up allowed directions in each cell based on the provided lists.\n",
    "- Model Steps: The step() method is called at each step to update the state of all agents."
   ]
  },
  {
   "cell_type": "code",
   "execution_count": 9,
   "metadata": {
    "id": "eEcDBzYRksJz"
   },
   "outputs": [],
   "source": [
    "class CarAgent(mesa.Agent):\n",
    "    def __init__(self, model, spawn_position, target_parking_spot = None):\n",
    "        super().__init__(model)\n",
    "        self.active = True\n",
    "        self.parking_spots = [coord for coord in model.parkings_coords if coord != spawn_position]\n",
    "        self.distance_travelled = 0\n",
    "        self.target_parking_spot = target_parking_spot\n",
    "\n",
    "    def check_semaphore(self, current_position): #for future implementation, check if the agent is a car\n",
    "        semaphore_agent = self.get_semaphore_agent(current_position)\n",
    "        if semaphore_agent is None:\n",
    "            return True\n",
    "        return self.is_semaphore_green(semaphore_agent, current_position)\n",
    "\n",
    "    def get_semaphore_agent(self, position):\n",
    "        agents_at_position = self.model.grid.get_cell_list_contents([position])\n",
    "        for agent in agents_at_position:\n",
    "            if isinstance(agent, TrafficLightAgent):\n",
    "                return agent\n",
    "        return None\n",
    "    \n",
    "    def is_semaphore_green(self, semaphore_agent, position):\n",
    "        if semaphore_agent.state == \"green\":\n",
    "            return True\n",
    "        return False\n",
    "            \n",
    "    def check_agent(self, new_position):\n",
    "        agents_at_position = self.model.grid.get_cell_list_contents([new_position])\n",
    "        for agent in agents_at_position:\n",
    "            if isinstance(agent, CarAgent):\n",
    "                return False\n",
    "        return True\n",
    "\n",
    "    def move(self):\n",
    "        # Get current position and allowed directions\n",
    "        current_position = self.pos\n",
    "        possible_current_directions = self.model.get_cell_directions(current_position)\n",
    "        \n",
    "        # Check for any available directions in this cell\n",
    "        if not possible_current_directions:\n",
    "            print(f\"No directions available for agent at position {current_position}\")\n",
    "            return\n",
    "\n",
    "        # Filter allowed directions and select one randomly\n",
    "        possible_directions = self.get_possible_directions(possible_current_directions)\n",
    "        if not possible_directions:\n",
    "            print(f\"No movement options for agent at position {current_position}\")\n",
    "            return\n",
    "        \n",
    "        # Checks if it can move acccording to the sempahore\n",
    "        if not self.check_semaphore(current_position):\n",
    "            return \n",
    "\n",
    "        direction = self.choose_direction(possible_directions)\n",
    "        new_position = self.calculate_new_position(direction)\n",
    "\n",
    "        if not self.check_agent(new_position):\n",
    "            return\n",
    "        \n",
    "        self.update_position(new_position)\n",
    "\n",
    "    def get_possible_directions(self, possible_current_directions):\n",
    "        return [direction for direction, allowed in possible_current_directions.items() if allowed]\n",
    "\n",
    "    def choose_direction(self, possible_directions):\n",
    "        direction_weights = {\n",
    "            \"up\": 1,\n",
    "            \"down\": 1,\n",
    "            \"left\": 1,\n",
    "            \"right\": 1,\n",
    "            \"down_left\": 0.1,\n",
    "            \"down_right\": 0.1,\n",
    "            \"up_left\": 0.1,\n",
    "            \"up_right\": 0.1\n",
    "        }\n",
    "        weights = [direction_weights[direction] for direction in possible_directions]\n",
    "        return random.choices(possible_directions, weights=weights, k=1)[0]\n",
    "    \n",
    "    def calculate_new_position(self, direction):\n",
    "        direction_map = {\n",
    "            \"up\": (0, 1),\n",
    "            \"down\": (0, -1),\n",
    "            \"left\": (-1, 0),\n",
    "            \"right\": (1, 0),\n",
    "            \"down_left\": (-1, -1),\n",
    "            \"down_right\": (1, -1),\n",
    "            \"up_left\": (-1, 1),\n",
    "            \"up_right\": (1, 1),\n",
    "        }\n",
    "        dx, dy = direction_map[direction]\n",
    "        return (self.pos[0] + dx, self.pos[1] + dy)\n",
    "    \n",
    "    def update_position(self, new_position):\n",
    "        self.model.grid.move_agent(self, new_position)\n",
    "        self.distance_travelled += 1\n",
    "        self.pos = new_position\n",
    "\n",
    "\n",
    "    def move_to_target(self):\n",
    "        # Moverse hasta alcanzar el destino\n",
    "        while self.active:\n",
    "            if self.pos in self.parking_spots and self.distance_travelled > 0:\n",
    "                self.active = False\n",
    "                break\n",
    "            else:\n",
    "                moved = self.move()\n",
    "                if not moved:  # Si no puede moverse, detener el bucle\n",
    "                    break            \n",
    "            \n",
    "    def step(self):\n",
    "        self.move_to_target()"
   ]
  },
  {
   "attachments": {},
   "cell_type": "markdown",
   "metadata": {},
   "source": [
    "## Traffic Light Agent"
   ]
  },
  {
   "cell_type": "code",
   "execution_count": null,
   "metadata": {},
   "outputs": [],
   "source": [
    "class TrafficLightAgent(mesa.Agent):\n",
    "    def __init__(self, traffic_light_id, state, model, group, position, monitored_positions):\n",
    "        super().__init__(model)\n",
    "        self.traffic_light_id = traffic_light_id\n",
    "        self.state = state\n",
    "        self.time_counter = 0\n",
    "        self.group = group\n",
    "        self.position = position\n",
    "        self.monitored_positions = monitored_positions\n",
    "\n",
    "    def set_state(self, new_state):\n",
    "        \"\"\"Change the state of the traffic light.\"\"\"\n",
    "        self.state = new_state\n",
    "\n",
    "    def set_time_counter(self, new_time):\n",
    "        \"\"\"Set the time counter of the traffic light.\"\"\"\n",
    "        self.time_counter = new_time\n",
    "\n",
    "    def cars_in_monitored_area(self):\n",
    "        \"\"\"Check if there are cars in the monitored positions.\"\"\"\n",
    "        in_area_cars = 0\n",
    "        for pos in self.monitored_positions:\n",
    "            agents = self.model.grid.get_cell_list_contents([pos])\n",
    "            for agent in agents:\n",
    "                if isinstance(agent, CarAgent):\n",
    "                    in_area_cars += 1\n",
    "\n",
    "        if(in_area_cars == 0):\n",
    "            for pos in self.model.traffic_light_coords[self.traffic_light_id][\"position\"]:\n",
    "                agents = self.model.grid.get_cell_list_contents([pos])\n",
    "                for agent in agents:\n",
    "                    if isinstance(agent, TrafficLightAgent):\n",
    "                        agent.change_state(\"yellow\")\n",
    "        return in_area_cars\n",
    "    \n",
    "    def change_state(self, state):\n",
    "        \"\"\"Change the state of the traffic light automatically.\"\"\"\n",
    "        self.state = state\n",
    "\n",
    "    def get_group_traffic_lights(self):\n",
    "        \"\"\"Get the traffic lights in the group.\"\"\"\n",
    "        return self.model.traffic_light_groups[self.group]\n",
    "\n",
    "    def get_other_traffic_light_id(self):\n",
    "        \"\"\"Get the ID of the other traffic light in the same group.\"\"\"\n",
    "        for traffic_light_id in self.model.traffic_light_groups[self.group]:\n",
    "            if traffic_light_id != self.traffic_light_id:\n",
    "                return traffic_light_id\n",
    "        return None\n",
    "    \n",
    "    def compare_group_traffic(self):\n",
    "        other_traffic_light_id = self.get_other_traffic_light_id()\n",
    "        #print(f\"Agent Id: {self.traffic_light_id} | Other traffic light id: {other_traffic_light_id}\")\n",
    "        other_traffic_lights_positions = self.model.traffic_light_coords[other_traffic_light_id][\"position\"]\n",
    "        self_traffic_light_positions = self.model.traffic_light_coords[self.traffic_light_id][\"position\"]\n",
    "        \n",
    "        other_traffic_lights = []\n",
    "        self_traffic_lights = []\n",
    "        for pos in other_traffic_lights_positions:\n",
    "            agents = self.model.grid.get_cell_list_contents([pos])\n",
    "            for agent in agents:\n",
    "                if isinstance(agent, TrafficLightAgent):\n",
    "                    #print(f\"Agent Id: {self.traffic_light_id} | Other traffic_id: {agent.traffic_light_id} | This_id car count: {self.cars_in_monitored_area()} | Other traffic car count: {agent.cars_in_monitored_area()}\")\n",
    "                    other_traffic_lights.append(agent)\n",
    "                    break\n",
    "        \n",
    "        for pos in self_traffic_light_positions:\n",
    "            agents = self.model.grid.get_cell_list_contents([pos])\n",
    "            for agent in agents:\n",
    "                if isinstance(agent, TrafficLightAgent):\n",
    "                    #print(f\"Agent Id: {self.traffic_light_id} | Other traffic_id: {agent.traffic_light_id} | This_id car count: {self.cars_in_monitored_area()} | Other traffic car count: {agent.cars_in_monitored_area()}\")\n",
    "                    self_traffic_lights.append(agent)\n",
    "                    break\n",
    "\n",
    "        \n",
    "        other_traffic_light_cars = other_traffic_lights[0].cars_in_monitored_area()\n",
    "        self_traffic_light_cars = self_traffic_lights[0].cars_in_monitored_area()\n",
    "\n",
    "        cars_in_monitored_area = self.cars_in_monitored_area()\n",
    "        if cars_in_monitored_area == 0:\n",
    "            for traffic_light_agent in self_traffic_lights:\n",
    "                #Change the state of the other traffic light to red\n",
    "                traffic_light_agent.change_state(\"yellow\")\n",
    "        elif cars_in_monitored_area > other_traffic_light_cars:\n",
    "            #print(f\"There are more cars in the monitored area of traffic light {self.traffic_light_id}({self.cars_in_monitored_area()} cars) than in the monitored area of traffic light {other_traffic_light_id}({other_traffic_light_cars} cars)\")\n",
    "            for traffic_light_agent in other_traffic_lights:\n",
    "                #Change the state of the other traffic light to red\n",
    "                traffic_light_agent.change_state(\"red\")\n",
    "                self.change_state(\"green\")\n",
    "                self.time_counter = 0\n",
    "\n",
    "        \n",
    "            #print(f\"Traffic light {self.traffic_light_id}:{self.position} changed to green and traffic light {other_traffic_light_id} changed to red\")\n",
    "             \n",
    "        \n",
    "\n",
    "    def step(self):\n",
    "        self.time_counter += 1\n",
    "        self.compare_group_traffic()\n",
    "\n",
    "        \n"
   ]
  },
  {
   "cell_type": "markdown",
   "metadata": {},
   "source": [
    "## Model Deployment "
   ]
  },
  {
   "cell_type": "code",
   "execution_count": 11,
   "metadata": {},
   "outputs": [
    {
     "name": "stderr",
     "output_type": "stream",
     "text": [
      "C:\\Users\\ricky\\AppData\\Local\\Temp\\ipykernel_13184\\2736903646.py:52: FutureWarning: The new PropertyLayer and _PropertyGrid classes experimental. It may be changed or removed in any and all future releases, including patch releases.\n",
      "We would love to hear what you think about this new feature. If you have any thoughts, share them with us here: https://github.com/projectmesa/mesa/discussions/1932\n",
      "  buildingLayer = mesa.space.PropertyLayer(\"building\", self.width, self.height, np.int64(0), np.int64)\n"
     ]
    }
   ],
   "source": [
    "# Crear una instancia de TrafficModel\n",
    "model = TrafficModel(24, 24, 0, coords, buildings_coords, parking_spots, traffic_light_coords)\n",
    "\n",
    "# Crear una matriz para contar los agentes de tipo CarAgent\n",
    "agent_counts = np.zeros((model.grid.width, model.grid.height))\n",
    "\n",
    "\"\"\"# Imprimir las coordenadas de los agentes\n",
    "print(\"Coordenadas de los agentes:\")\n",
    "for agent in model.agents:  # Itera sobre todos los agentes en el modelo\n",
    "    if isinstance(agent, CarAgent):  # Verifica si es un CarAgent\n",
    "        print(f\"Agente en posición: {agent.pos}\")\n",
    "\"\"\"\n",
    "\n",
    "for i in range(15):  # Eje    cutar el modelo por 10 pasos\n",
    "  model.step()"
   ]
  },
  {
   "cell_type": "markdown",
   "metadata": {},
   "source": [
    "# Visualization 1"
   ]
  },
  {
   "cell_type": "code",
   "execution_count": 12,
   "metadata": {},
   "outputs": [],
   "source": [
    "#%pip install solara"
   ]
  },
  {
   "cell_type": "code",
   "execution_count": 13,
   "metadata": {},
   "outputs": [],
   "source": [
    "import solara\n"
   ]
  },
  {
   "cell_type": "markdown",
   "metadata": {},
   "source": []
  },
  {
   "cell_type": "markdown",
   "metadata": {},
   "source": [
    "Define the agent portrayal function"
   ]
  },
  {
   "cell_type": "code",
   "execution_count": 14,
   "metadata": {
    "id": "jcwflT4ueEFN"
   },
   "outputs": [],
   "source": [
    "def agent_portrayal(agent):\n",
    "    size = 20\n",
    "    color = \"tab:red\"\n",
    "    shape = \"circle\"\n",
    "    \n",
    "    # Verificar el tipo de agente\n",
    "    if isinstance(agent, CarAgent):\n",
    "        size = 50\n",
    "        color = \"tab:blue\"\n",
    "        shape = \"circle\"\n",
    "    elif isinstance(agent, TrafficLightAgent):\n",
    "        if agent.state == \"red\":\n",
    "            color = \"tab:red\"\n",
    "        elif agent.state == \"green\":\n",
    "            color = \"tab:green\"\n",
    "        elif agent.state == \"yellow\":\n",
    "            color = \"yellow\"\n",
    "            \n",
    "    return {\"size\": size, \"color\": color, \"shape\": shape}\n",
    "\n"
   ]
  },
  {
   "cell_type": "markdown",
   "metadata": {},
   "source": [
    " Define the model parameters"
   ]
  },
  {
   "cell_type": "code",
   "execution_count": 15,
   "metadata": {},
   "outputs": [],
   "source": [
    "model_params = {\n",
    "    \"num_agents\": {\n",
    "        \"type\": \"SliderInt\",\n",
    "        \"value\": 10,\n",
    "        \"label\": \"Number of agents:\",\n",
    "    },\n",
    "    \"width\": 24,\n",
    "    \"height\": 24,\n",
    "}"
   ]
  },
  {
   "cell_type": "markdown",
   "metadata": {},
   "source": [
    "Create the initial model instance"
   ]
  },
  {
   "cell_type": "code",
   "execution_count": 16,
   "metadata": {
    "id": "ExgYCvb9e8uK"
   },
   "outputs": [
    {
     "name": "stdout",
     "output_type": "stream",
     "text": [
      "Spawn: ((5, 17)), Target: ((10, 7))\n",
      "Spawn: ((3, 6)), Target: ((4, 3))\n"
     ]
    }
   ],
   "source": [
    "initial_model = TrafficModel(\n",
    "    num_agents=2,\n",
    "    width=24,\n",
    "    height=24,\n",
    "    coords = coords,\n",
    "    buildings_coords=buildings_coords,\n",
    "    parking_coords=parking_spots,\n",
    "    traffic_light_coords=traffic_light_coords\n",
    ")\n",
    "\n"
   ]
  },
  {
   "cell_type": "markdown",
   "metadata": {},
   "source": [
    "Create the visualization components"
   ]
  },
  {
   "cell_type": "code",
   "execution_count": 17,
   "metadata": {
    "id": "T9YbB08oeyZv"
   },
   "outputs": [],
   "source": [
    "propertylayer_portrayal={\"building\": {\"color\":\"blue\",\"colorbar\":False}, \"parking\":{\"color\":\"yellow\",\"colorbar\":False}, \"traffic_monitoring\":{\"color\":\"gray\",\"colorbar\":False}}\n",
    "SpaceGraph = make_space_component(agent_portrayal, propertylayer_portrayal=propertylayer_portrayal)"
   ]
  },
  {
   "cell_type": "markdown",
   "metadata": {},
   "source": [
    "Create the SolaraViz page"
   ]
  },
  {
   "cell_type": "code",
   "execution_count": 18,
   "metadata": {
    "colab": {
     "base_uri": "https://localhost:8080/",
     "height": 971,
     "referenced_widgets": [
      "abe9fa35972f4fd8a1a08a862ad74cea",
      "d51e77ec1fde49cda87aa46e18fc8285",
      "0e7389f9d7544edf92b0bab60b23bb6c",
      "9e1b7a3518234982b6440f2df584c70b",
      "7d34024b584a43719802e87884d5f270",
      "c158d9351e1f49199adbbf0ceb66d9e5"
     ]
    },
    "id": "c9UCVl8Me06j",
    "outputId": "e457b245-a22e-4d2b-a601-4ab199273924"
   },
   "outputs": [
    {
     "name": "stderr",
     "output_type": "stream",
     "text": [
      "d:\\Aplicaciones\\Python\\Lib\\site-packages\\mesa\\visualization\\mpl_space_drawing.py:272: UserWarning: the following fields are not used in agent portrayal and thus ignored: shape.\n",
      "  arguments = collect_agent_data(space, agent_portrayal, size=s_default)\n",
      "d:\\Aplicaciones\\Python\\Lib\\site-packages\\mesa\\visualization\\mpl_space_drawing.py:272: UserWarning: the following fields are not used in agent portrayal and thus ignored: shape.\n",
      "  arguments = collect_agent_data(space, agent_portrayal, size=s_default)\n"
     ]
    },
    {
     "data": {
      "application/vnd.jupyter.widget-view+json": {
       "model_id": "787307cbd29d4b8b9c436b13d677f4ca",
       "version_major": 2,
       "version_minor": 0
      },
      "text/html": [
       "Cannot show widget. You probably want to rerun the code cell above (<i>Click in the code cell, and press Shift+Enter <kbd>⇧</kbd>+<kbd>↩</kbd></i>)."
      ],
      "text/plain": [
       "Cannot show ipywidgets in text"
      ]
     },
     "metadata": {},
     "output_type": "display_data"
    }
   ],
   "source": [
    "page = SolaraViz(\n",
    "    initial_model,\n",
    "    components=[SpaceGraph],\n",
    "    model_params=model_params,\n",
    "    name=\"Traffic Simulation\",\n",
    ")\n",
    "page"
   ]
  }
 ],
 "metadata": {
  "colab": {
   "provenance": []
  },
  "kernelspec": {
   "display_name": "Python 3",
   "language": "python",
   "name": "python3"
  },
  "language_info": {
   "codemirror_mode": {
    "name": "ipython",
    "version": 3
   },
   "file_extension": ".py",
   "mimetype": "text/x-python",
   "name": "python",
   "nbconvert_exporter": "python",
   "pygments_lexer": "ipython3",
   "version": "3.11.4"
  },
  "widgets": {
   "application/vnd.jupyter.widget-state+json": {
    "0e7389f9d7544edf92b0bab60b23bb6c": {
     "model_module": "@jupyter-widgets/controls",
     "model_module_version": "1.5.0",
     "model_name": "HTMLModel",
     "state": {
      "_dom_classes": [],
      "_model_module": "@jupyter-widgets/controls",
      "_model_module_version": "1.5.0",
      "_model_name": "HTMLModel",
      "_view_count": null,
      "_view_module": "@jupyter-widgets/controls",
      "_view_module_version": "1.5.0",
      "_view_name": "HTMLView",
      "description": "",
      "description_tooltip": null,
      "layout": "IPY_MODEL_7d34024b584a43719802e87884d5f270",
      "placeholder": "​",
      "style": "IPY_MODEL_c158d9351e1f49199adbbf0ceb66d9e5",
      "value": "<pre>Traceback (most recent call last):\n  File &quot;/usr/local/lib/python3.10/dist-packages/reacton/core.py&quot;, line 1707, in _render\n    root_element = el.component.f(*el.args, **el.kwargs)\n  File &quot;/usr/local/lib/python3.10/dist-packages/mesa/visualization/components/matplotlib_components.py&quot;, line 82, in SpaceMatplotlib\n    draw_space(\n  File &quot;/usr/local/lib/python3.10/dist-packages/mesa/visualization/mpl_space_drawing.py&quot;, line 144, in draw_space\n    draw_orthogonal_grid(space, agent_portrayal, ax=ax, **space_drawing_kwargs)\n  File &quot;/usr/local/lib/python3.10/dist-packages/mesa/visualization/mpl_space_drawing.py&quot;, line 272, in draw_orthogonal_grid\n    arguments = collect_agent_data(space, agent_portrayal, size=s_default)\n  File &quot;/usr/local/lib/python3.10/dist-packages/mesa/visualization/mpl_space_drawing.py&quot;, line 79, in collect_agent_data\n    for agent in space.agents:\n  File &quot;/usr/local/lib/python3.10/dist-packages/mesa/space.py&quot;, line 181, in agents\n    rng = agents[0].random\nAttributeError: &#x27;dict&#x27; object has no attribute &#x27;random&#x27;\n</pre>"
     }
    },
    "7d34024b584a43719802e87884d5f270": {
     "model_module": "@jupyter-widgets/base",
     "model_module_version": "1.2.0",
     "model_name": "LayoutModel",
     "state": {
      "_model_module": "@jupyter-widgets/base",
      "_model_module_version": "1.2.0",
      "_model_name": "LayoutModel",
      "_view_count": null,
      "_view_module": "@jupyter-widgets/base",
      "_view_module_version": "1.2.0",
      "_view_name": "LayoutView",
      "align_content": null,
      "align_items": null,
      "align_self": null,
      "border": null,
      "bottom": null,
      "display": null,
      "flex": null,
      "flex_flow": null,
      "grid_area": null,
      "grid_auto_columns": null,
      "grid_auto_flow": null,
      "grid_auto_rows": null,
      "grid_column": null,
      "grid_gap": null,
      "grid_row": null,
      "grid_template_areas": null,
      "grid_template_columns": null,
      "grid_template_rows": null,
      "height": null,
      "justify_content": null,
      "justify_items": null,
      "left": null,
      "margin": null,
      "max_height": null,
      "max_width": null,
      "min_height": null,
      "min_width": null,
      "object_fit": null,
      "object_position": null,
      "order": null,
      "overflow": "auto",
      "overflow_x": null,
      "overflow_y": null,
      "padding": null,
      "right": null,
      "top": null,
      "visibility": null,
      "width": null
     }
    },
    "9e1b7a3518234982b6440f2df584c70b": {
     "model_module": "@jupyter-widgets/base",
     "model_module_version": "1.2.0",
     "model_name": "LayoutModel",
     "state": {
      "_model_module": "@jupyter-widgets/base",
      "_model_module_version": "1.2.0",
      "_model_name": "LayoutModel",
      "_view_count": null,
      "_view_module": "@jupyter-widgets/base",
      "_view_module_version": "1.2.0",
      "_view_name": "LayoutView",
      "align_content": null,
      "align_items": null,
      "align_self": null,
      "border": null,
      "bottom": null,
      "display": null,
      "flex": null,
      "flex_flow": null,
      "grid_area": null,
      "grid_auto_columns": null,
      "grid_auto_flow": null,
      "grid_auto_rows": null,
      "grid_column": null,
      "grid_gap": null,
      "grid_row": null,
      "grid_template_areas": null,
      "grid_template_columns": null,
      "grid_template_rows": null,
      "height": null,
      "justify_content": null,
      "justify_items": null,
      "left": null,
      "margin": null,
      "max_height": null,
      "max_width": null,
      "min_height": null,
      "min_width": null,
      "object_fit": null,
      "object_position": null,
      "order": null,
      "overflow": null,
      "overflow_x": null,
      "overflow_y": null,
      "padding": null,
      "right": null,
      "top": null,
      "visibility": null,
      "width": null
     }
    },
    "abe9fa35972f4fd8a1a08a862ad74cea": {
     "model_module": "jupyter-vue",
     "model_module_version": "3.0.0-alpha.4",
     "model_name": "HtmlModel",
     "state": {
      "_dom_classes": [],
      "_events": [],
      "_jupyter_vue": "IPY_MODEL_e2521c7987974b29aa7fe086f445c08e",
      "_model_module": "jupyter-vue",
      "_model_module_version": "3.0.0-alpha.4",
      "_model_name": "HtmlModel",
      "_view_count": null,
      "_view_module": "jupyter-vue",
      "_view_module_version": "3.0.0-alpha.4",
      "_view_name": "VueView",
      "attributes": {},
      "children": [],
      "class_": null,
      "layout": null,
      "slot": null,
      "style_": "display: none",
      "tag": "span",
      "v_model": "!!disabled!!",
      "v_on": null,
      "v_slots": []
     }
    },
    "c158d9351e1f49199adbbf0ceb66d9e5": {
     "model_module": "@jupyter-widgets/controls",
     "model_module_version": "1.5.0",
     "model_name": "DescriptionStyleModel",
     "state": {
      "_model_module": "@jupyter-widgets/controls",
      "_model_module_version": "1.5.0",
      "_model_name": "DescriptionStyleModel",
      "_view_count": null,
      "_view_module": "@jupyter-widgets/base",
      "_view_module_version": "1.2.0",
      "_view_name": "StyleView",
      "description_width": ""
     }
    },
    "d51e77ec1fde49cda87aa46e18fc8285": {
     "model_module": "@jupyter-widgets/controls",
     "model_module_version": "1.5.0",
     "model_name": "VBoxModel",
     "state": {
      "_dom_classes": [],
      "_model_module": "@jupyter-widgets/controls",
      "_model_module_version": "1.5.0",
      "_model_name": "VBoxModel",
      "_view_count": 1,
      "_view_module": "@jupyter-widgets/controls",
      "_view_module_version": "1.5.0",
      "_view_name": "VBoxView",
      "box_style": "",
      "children": [
       "IPY_MODEL_0e7389f9d7544edf92b0bab60b23bb6c"
      ],
      "layout": "IPY_MODEL_9e1b7a3518234982b6440f2df584c70b"
     }
    }
   }
  }
 },
 "nbformat": 4,
 "nbformat_minor": 0
}
