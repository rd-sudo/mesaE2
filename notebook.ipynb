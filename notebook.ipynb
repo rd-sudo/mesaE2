{
 "cells": [
  {
   "cell_type": "code",
   "execution_count": 1,
   "metadata": {},
   "outputs": [
    {
     "name": "stderr",
     "output_type": "stream",
     "text": [
      "/Users/nicole/Desktop/mesaE2/TrafficModel.py:56: FutureWarning: The new PropertyLayer and _PropertyGrid classes experimental. It may be changed or removed in any and all future releases, including patch releases.\n",
      "We would love to hear what you think about this new feature. If you have any thoughts, share them with us here: https://github.com/projectmesa/mesa/discussions/1932\n",
      "  buildingLayer = mesa.space.PropertyLayer(\n",
      "/Users/nicole/Desktop/mesaE2/.venv/lib/python3.12/site-packages/mesa/visualization/mpl_space_drawing.py:272: UserWarning: the following fields are not used in agent portrayal and thus ignored: shape.\n",
      "  arguments = collect_agent_data(space, agent_portrayal, size=s_default)\n",
      "/Users/nicole/Desktop/mesaE2/.venv/lib/python3.12/site-packages/mesa/visualization/mpl_space_drawing.py:272: UserWarning: the following fields are not used in agent portrayal and thus ignored: shape.\n",
      "  arguments = collect_agent_data(space, agent_portrayal, size=s_default)\n"
     ]
    },
    {
     "name": "stdout",
     "output_type": "stream",
     "text": [
      "Spawn: ((17, 4)), Target: ((20, 4))\n",
      "Spawn: ((17, 21)), Target: ((8, 15))\n"
     ]
    },
    {
     "data": {
      "application/vnd.jupyter.widget-view+json": {
       "model_id": "a154739e332c4f5b9f8201d2116ce7f6",
       "version_major": 2,
       "version_minor": 0
      },
      "text/html": [
       "Cannot show widget. You probably want to rerun the code cell above (<i>Click in the code cell, and press Shift+Enter <kbd>⇧</kbd>+<kbd>↩</kbd></i>)."
      ],
      "text/plain": [
       "Cannot show ipywidgets in text"
      ]
     },
     "metadata": {},
     "output_type": "display_data"
    }
   ],
   "source": [
    "import mesa\n",
    "from mesa.visualization import SolaraViz, make_plot_component, make_space_component\n",
    "\n",
    "from TrafficModel import TrafficModel\n",
    "from CarAgent import CarAgent\n",
    "from TrafficLightAgent import TrafficLightAgent\n",
    "\n",
    "import mapBuild\n",
    "import mapBuild.buildings\n",
    "import mapBuild.downCoords\n",
    "import mapBuild.leftCoords\n",
    "import mapBuild.parkingSpots\n",
    "import mapBuild.rightCoords\n",
    "import mapBuild.trafficLights\n",
    "import mapBuild.upCoords\n",
    "\n",
    "def agent_portrayal(agent):\n",
    "    size = 20\n",
    "    color = \"tab:red\"\n",
    "    shape = \"circle\"\n",
    "    \n",
    "    # Verificar el tipo de agente\n",
    "    if isinstance(agent, CarAgent):\n",
    "        size = 50\n",
    "        color = \"tab:blue\"\n",
    "        shape = \"circle\"\n",
    "    elif isinstance(agent, TrafficLightAgent):\n",
    "        size = 20\n",
    "        shape = \"circle\"\n",
    "        if agent.state == \"red\":\n",
    "            color = \"tab:red\"\n",
    "        elif agent.state == \"green\":\n",
    "            color = \"tab:green\"\n",
    "    return {\"size\": size, \"color\": color, \"shape\": shape}\n",
    "\n",
    "model_params = {\n",
    "    \"width\":24,\n",
    "    \"height\":24,\n",
    "    \"num_agents\":1,\n",
    "    \"left_coords\":mapBuild.leftCoords.left_coords,\n",
    "    \"right_coords\":mapBuild.rightCoords.right_coords,\n",
    "    \"up_coords\":mapBuild.upCoords.up_coords,\n",
    "    \"down_coords\":mapBuild.downCoords.down_coords,\n",
    "    \"buildings_coords\":mapBuild.buildings.buildings_coords,\n",
    "    \"parking_coords\":mapBuild.parkingSpots.parking_spots,\n",
    "    \"traffic_light_coords\":mapBuild.trafficLights.traffic_light_coords,\n",
    "}\n",
    "\n",
    "model = TrafficModel(\n",
    "    width=24,\n",
    "    height=24,\n",
    "    num_agents=2,\n",
    "    left_coords=mapBuild.leftCoords.left_coords,\n",
    "    right_coords=mapBuild.rightCoords.right_coords,\n",
    "    up_coords=mapBuild.upCoords.up_coords,\n",
    "    down_coords=mapBuild.downCoords.down_coords,\n",
    "    buildings_coords=mapBuild.buildings.buildings_coords,\n",
    "    parking_coords=mapBuild.parkingSpots.parking_spots,\n",
    "    traffic_light_coords=mapBuild.trafficLights.traffic_light_coords,\n",
    "    seed= None\n",
    ")\n",
    "\n",
    "propertylayer_portrayal={\"building\": {\"color\":\"blue\",\"colorbar\":False}, \"parking\":{\"color\":\"yellow\",\"colorbar\":False}}\n",
    "SpaceGraph = make_space_component(agent_portrayal, propertylayer_portrayal=propertylayer_portrayal) \n",
    "\n",
    "page = SolaraViz(\n",
    "    model,\n",
    "    components=[SpaceGraph],\n",
    "    model_params=model_params,\n",
    "    name=\"Traffic Simulation\",\n",
    ")\n",
    "page"
   ]
  }
 ],
 "metadata": {
  "kernelspec": {
   "display_name": ".venv",
   "language": "python",
   "name": "python3"
  },
  "language_info": {
   "codemirror_mode": {
    "name": "ipython",
    "version": 3
   },
   "file_extension": ".py",
   "mimetype": "text/x-python",
   "name": "python",
   "nbconvert_exporter": "python",
   "pygments_lexer": "ipython3",
   "version": "3.12.7"
  },
  "orig_nbformat": 4
 },
 "nbformat": 4,
 "nbformat_minor": 2
}
